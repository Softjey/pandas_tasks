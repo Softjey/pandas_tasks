{
 "cells": [
  {
   "cell_type": "markdown",
   "metadata": {},
   "source": [
    "## Data importing"
   ]
  },
  {
   "cell_type": "code",
   "execution_count": 22,
   "metadata": {},
   "outputs": [
    {
     "data": {
      "text/html": [
       "<div>\n",
       "<style scoped>\n",
       "    .dataframe tbody tr th:only-of-type {\n",
       "        vertical-align: middle;\n",
       "    }\n",
       "\n",
       "    .dataframe tbody tr th {\n",
       "        vertical-align: top;\n",
       "    }\n",
       "\n",
       "    .dataframe thead th {\n",
       "        text-align: right;\n",
       "    }\n",
       "</style>\n",
       "<table border=\"1\" class=\"dataframe\">\n",
       "  <thead>\n",
       "    <tr style=\"text-align: right;\">\n",
       "      <th></th>\n",
       "      <th>order_date</th>\n",
       "      <th>time</th>\n",
       "      <th>aging</th>\n",
       "      <th>customer_id</th>\n",
       "      <th>gender</th>\n",
       "      <th>device_type</th>\n",
       "      <th>customer_login_type</th>\n",
       "      <th>product_category</th>\n",
       "      <th>product</th>\n",
       "      <th>sales</th>\n",
       "      <th>quantity</th>\n",
       "      <th>discount</th>\n",
       "      <th>profit</th>\n",
       "      <th>shipping_cost</th>\n",
       "      <th>order_priority</th>\n",
       "      <th>payment_method</th>\n",
       "    </tr>\n",
       "  </thead>\n",
       "  <tbody>\n",
       "    <tr>\n",
       "      <th>0</th>\n",
       "      <td>2018-01-01</td>\n",
       "      <td>10:11:40</td>\n",
       "      <td>5.0</td>\n",
       "      <td>29317</td>\n",
       "      <td>Male</td>\n",
       "      <td>Web</td>\n",
       "      <td>Member</td>\n",
       "      <td>Auto &amp; Accessories</td>\n",
       "      <td>Car Media Players</td>\n",
       "      <td>140.0</td>\n",
       "      <td>4.0</td>\n",
       "      <td>0.3</td>\n",
       "      <td>43.2</td>\n",
       "      <td>4.3</td>\n",
       "      <td>Medium</td>\n",
       "      <td>e_wallet</td>\n",
       "    </tr>\n",
       "    <tr>\n",
       "      <th>1</th>\n",
       "      <td>2018-01-01</td>\n",
       "      <td>22:30:44</td>\n",
       "      <td>7.0</td>\n",
       "      <td>42270</td>\n",
       "      <td>Male</td>\n",
       "      <td>Web</td>\n",
       "      <td>Member</td>\n",
       "      <td>Auto &amp; Accessories</td>\n",
       "      <td>Car Pillow &amp; Neck Rest</td>\n",
       "      <td>231.0</td>\n",
       "      <td>5.0</td>\n",
       "      <td>0.1</td>\n",
       "      <td>139.5</td>\n",
       "      <td>13.9</td>\n",
       "      <td>High</td>\n",
       "      <td>money_order</td>\n",
       "    </tr>\n",
       "    <tr>\n",
       "      <th>2</th>\n",
       "      <td>2018-01-01</td>\n",
       "      <td>21:55:31</td>\n",
       "      <td>10.0</td>\n",
       "      <td>14563</td>\n",
       "      <td>Male</td>\n",
       "      <td>Web</td>\n",
       "      <td>Member</td>\n",
       "      <td>Auto &amp; Accessories</td>\n",
       "      <td>Car Speakers</td>\n",
       "      <td>211.0</td>\n",
       "      <td>5.0</td>\n",
       "      <td>0.1</td>\n",
       "      <td>120.5</td>\n",
       "      <td>12.0</td>\n",
       "      <td>High</td>\n",
       "      <td>credit_card</td>\n",
       "    </tr>\n",
       "    <tr>\n",
       "      <th>3</th>\n",
       "      <td>2018-01-01</td>\n",
       "      <td>13:57:15</td>\n",
       "      <td>9.0</td>\n",
       "      <td>58601</td>\n",
       "      <td>Male</td>\n",
       "      <td>Web</td>\n",
       "      <td>Member</td>\n",
       "      <td>Auto &amp; Accessories</td>\n",
       "      <td>Tyre</td>\n",
       "      <td>250.0</td>\n",
       "      <td>4.0</td>\n",
       "      <td>0.2</td>\n",
       "      <td>150.0</td>\n",
       "      <td>15.0</td>\n",
       "      <td>Critical</td>\n",
       "      <td>credit_card</td>\n",
       "    </tr>\n",
       "    <tr>\n",
       "      <th>4</th>\n",
       "      <td>2018-01-01</td>\n",
       "      <td>15:17:41</td>\n",
       "      <td>2.0</td>\n",
       "      <td>48342</td>\n",
       "      <td>Male</td>\n",
       "      <td>Web</td>\n",
       "      <td>Member</td>\n",
       "      <td>Auto &amp; Accessories</td>\n",
       "      <td>Tyre</td>\n",
       "      <td>250.0</td>\n",
       "      <td>1.0</td>\n",
       "      <td>0.1</td>\n",
       "      <td>165.0</td>\n",
       "      <td>16.5</td>\n",
       "      <td>High</td>\n",
       "      <td>credit_card</td>\n",
       "    </tr>\n",
       "  </tbody>\n",
       "</table>\n",
       "</div>"
      ],
      "text/plain": [
       "   order_date      time  aging  customer_id gender device_type  \\\n",
       "0  2018-01-01  10:11:40    5.0        29317   Male         Web   \n",
       "1  2018-01-01  22:30:44    7.0        42270   Male         Web   \n",
       "2  2018-01-01  21:55:31   10.0        14563   Male         Web   \n",
       "3  2018-01-01  13:57:15    9.0        58601   Male         Web   \n",
       "4  2018-01-01  15:17:41    2.0        48342   Male         Web   \n",
       "\n",
       "  customer_login_type    product_category                 product  sales  \\\n",
       "0              Member  Auto & Accessories       Car Media Players  140.0   \n",
       "1              Member  Auto & Accessories  Car Pillow & Neck Rest  231.0   \n",
       "2              Member  Auto & Accessories            Car Speakers  211.0   \n",
       "3              Member  Auto & Accessories                    Tyre  250.0   \n",
       "4              Member  Auto & Accessories                    Tyre  250.0   \n",
       "\n",
       "   quantity  discount  profit  shipping_cost order_priority payment_method  \n",
       "0       4.0       0.3    43.2            4.3         Medium       e_wallet  \n",
       "1       5.0       0.1   139.5           13.9           High    money_order  \n",
       "2       5.0       0.1   120.5           12.0           High    credit_card  \n",
       "3       4.0       0.2   150.0           15.0       Critical    credit_card  \n",
       "4       1.0       0.1   165.0           16.5           High    credit_card  "
      ]
     },
     "execution_count": 22,
     "metadata": {},
     "output_type": "execute_result"
    }
   ],
   "source": [
    "import pandas as pd\n",
    "\n",
    "raw_sales = pd.read_csv('./data/sales_data.csv')\n",
    "\n",
    "raw_sales.head()"
   ]
  },
  {
   "cell_type": "markdown",
   "metadata": {},
   "source": [
    "## Data transforming"
   ]
  },
  {
   "cell_type": "code",
   "execution_count": 29,
   "metadata": {},
   "outputs": [
    {
     "name": "stdout",
     "output_type": "stream",
     "text": [
      "<class 'pandas.core.frame.DataFrame'>\n",
      "RangeIndex: 51290 entries, 0 to 51289\n",
      "Data columns (total 16 columns):\n",
      " #   Column               Non-Null Count  Dtype         \n",
      "---  ------               --------------  -----         \n",
      " 0   order_date           51290 non-null  datetime64[ns]\n",
      " 1   aging                51289 non-null  float64       \n",
      " 2   customer_id          51290 non-null  int64         \n",
      " 3   gender               51290 non-null  object        \n",
      " 4   device_type          51290 non-null  object        \n",
      " 5   customer_login_type  51290 non-null  object        \n",
      " 6   product_category     51290 non-null  object        \n",
      " 7   product              51290 non-null  object        \n",
      " 8   sales                51289 non-null  float64       \n",
      " 9   quantity             51288 non-null  float64       \n",
      " 10  discount             51289 non-null  float64       \n",
      " 11  profit               51290 non-null  float64       \n",
      " 12  shipping_cost        51289 non-null  float64       \n",
      " 13  order_priority       51288 non-null  object        \n",
      " 14  payment_method       51290 non-null  object        \n",
      " 15  sales_amount         51287 non-null  float64       \n",
      "dtypes: datetime64[ns](1), float64(7), int64(1), object(7)\n",
      "memory usage: 6.3+ MB\n"
     ]
    }
   ],
   "source": [
    "sales = raw_sales.copy()\n",
    "sales['order_date'] = pd.to_datetime(sales['order_date'])\n",
    "sales = sales.drop('time', axis=1)\n",
    "sales['sales_amount'] = sales['sales'] * sales['quantity']\n",
    "sales['gender'] = sales['gender'].apply(lambda g: 'M' if g == 'Male' else 'F')\n",
    "sales.columns = sales.columns.str.lower()\n",
    "\n",
    "sales.info()"
   ]
  },
  {
   "cell_type": "markdown",
   "metadata": {},
   "source": [
    "## Data descriptive analysis"
   ]
  },
  {
   "cell_type": "markdown",
   "metadata": {},
   "source": [
    "### Summary Statistics for Sales Amount"
   ]
  },
  {
   "cell_type": "code",
   "execution_count": 31,
   "metadata": {},
   "outputs": [
    {
     "data": {
      "text/plain": [
       "count    51287.000000\n",
       "mean       382.864274\n",
       "std        303.918182\n",
       "min         33.000000\n",
       "25%        149.000000\n",
       "50%        248.000000\n",
       "75%        545.000000\n",
       "max       1250.000000\n",
       "Name: sales_amount, dtype: float64"
      ]
     },
     "execution_count": 31,
     "metadata": {},
     "output_type": "execute_result"
    }
   ],
   "source": [
    "sales['sales_amount'].describe()"
   ]
  },
  {
   "cell_type": "markdown",
   "metadata": {},
   "source": [
    "### Number of Product Categories and Their Popularity"
   ]
  },
  {
   "cell_type": "code",
   "execution_count": 32,
   "metadata": {},
   "outputs": [
    {
     "data": {
      "text/plain": [
       "product_category\n",
       "Fashion               25646\n",
       "Home & Furniture      15438\n",
       "Auto & Accessories     7505\n",
       "Electronic             2701\n",
       "Name: count, dtype: int64"
      ]
     },
     "execution_count": 32,
     "metadata": {},
     "output_type": "execute_result"
    }
   ],
   "source": [
    "sales['product_category'].value_counts()"
   ]
  },
  {
   "cell_type": "markdown",
   "metadata": {},
   "source": [
    "The most popular category is fashion and the most unpopular it is electronic"
   ]
  },
  {
   "cell_type": "markdown",
   "metadata": {},
   "source": [
    "### Top 5 Most Popular Products"
   ]
  },
  {
   "cell_type": "code",
   "execution_count": null,
   "metadata": {},
   "outputs": [
    {
     "data": {
      "text/plain": [
       "product\n",
       "Suits           2332\n",
       "Jeans           2332\n",
       "T - Shirts      2332\n",
       "Fossil Watch    2332\n",
       "Shirts          2332\n",
       "Name: count, dtype: int64"
      ]
     },
     "execution_count": 37,
     "metadata": {},
     "output_type": "execute_result"
    }
   ],
   "source": [
    "sales['product'].value_counts(sort=True, ascending=False).head(5)"
   ]
  },
  {
   "cell_type": "markdown",
   "metadata": {},
   "source": [
    "We see that Suits, Jeans, T - Shirts, Fossil Watch and Shirts are the 5 most popular products and they have the same amount of sales"
   ]
  },
  {
   "cell_type": "markdown",
   "metadata": {},
   "source": [
    "###  Purchase Frequency by Gender"
   ]
  },
  {
   "cell_type": "code",
   "execution_count": 46,
   "metadata": {},
   "outputs": [
    {
     "name": "stdout",
     "output_type": "stream",
     "text": [
      "Percentage of male sales: 54.86%\n",
      "Percentage of female sales: 45.14%\n"
     ]
    }
   ],
   "source": [
    "sales_by_gender = sales['gender'].value_counts()\n",
    "\n",
    "total_sales = sales.shape[0]\n",
    "\n",
    "percentage_man_sales = sales_by_gender['M'] / total_sales * 100\n",
    "percentage_female_sales = sales_by_gender['F'] / total_sales * 100\n",
    "\n",
    "print(f\"Percentage of male sales: {percentage_man_sales:.2f}%\")\n",
    "print(f\"Percentage of female sales: {percentage_female_sales:.2f}%\")"
   ]
  },
  {
   "cell_type": "markdown",
   "metadata": {},
   "source": [
    "We observe that males purchase products more frequently, but the difference is not very large."
   ]
  },
  {
   "cell_type": "markdown",
   "metadata": {},
   "source": [
    "### Most Popular Payment Method"
   ]
  },
  {
   "cell_type": "code",
   "execution_count": 48,
   "metadata": {},
   "outputs": [
    {
     "data": {
      "text/plain": [
       "payment_method\n",
       "credit_card    38137\n",
       "money_order     9629\n",
       "e_wallet        2789\n",
       "debit_card       734\n",
       "not_defined        1\n",
       "Name: count, dtype: int64"
      ]
     },
     "execution_count": 48,
     "metadata": {},
     "output_type": "execute_result"
    }
   ],
   "source": [
    "sales['payment_method'].value_counts(sort=True, ascending=False)"
   ]
  },
  {
   "cell_type": "markdown",
   "metadata": {},
   "source": [
    "We observe that the most popular payment method is Credit Card, followed by Ewallet and Cash."
   ]
  }
 ],
 "metadata": {
  "kernelspec": {
   "display_name": ".venv",
   "language": "python",
   "name": "python3"
  },
  "language_info": {
   "codemirror_mode": {
    "name": "ipython",
    "version": 3
   },
   "file_extension": ".py",
   "mimetype": "text/x-python",
   "name": "python",
   "nbconvert_exporter": "python",
   "pygments_lexer": "ipython3",
   "version": "3.12.2"
  }
 },
 "nbformat": 4,
 "nbformat_minor": 2
}
