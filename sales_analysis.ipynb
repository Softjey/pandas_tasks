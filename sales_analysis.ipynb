{
 "cells": [
  {
   "cell_type": "code",
   "execution_count": 4,
   "metadata": {},
   "outputs": [],
   "source": [
    "import pandas as pd"
   ]
  },
  {
   "cell_type": "code",
   "execution_count": 5,
   "metadata": {},
   "outputs": [],
   "source": [
    "sales = pd.read_csv('./data/sales_data.csv')"
   ]
  },
  {
   "cell_type": "code",
   "execution_count": 13,
   "metadata": {},
   "outputs": [
    {
     "name": "stdout",
     "output_type": "stream",
     "text": [
      "First 5 rows of the data:\n"
     ]
    },
    {
     "data": {
      "text/html": [
       "<div>\n",
       "<style scoped>\n",
       "    .dataframe tbody tr th:only-of-type {\n",
       "        vertical-align: middle;\n",
       "    }\n",
       "\n",
       "    .dataframe tbody tr th {\n",
       "        vertical-align: top;\n",
       "    }\n",
       "\n",
       "    .dataframe thead th {\n",
       "        text-align: right;\n",
       "    }\n",
       "</style>\n",
       "<table border=\"1\" class=\"dataframe\">\n",
       "  <thead>\n",
       "    <tr style=\"text-align: right;\">\n",
       "      <th></th>\n",
       "      <th>order_date</th>\n",
       "      <th>time</th>\n",
       "      <th>aging</th>\n",
       "      <th>customer_id</th>\n",
       "      <th>gender</th>\n",
       "      <th>device_type</th>\n",
       "      <th>customer_login_type</th>\n",
       "      <th>product_category</th>\n",
       "      <th>product</th>\n",
       "      <th>sales</th>\n",
       "      <th>quantity</th>\n",
       "      <th>discount</th>\n",
       "      <th>profit</th>\n",
       "      <th>shipping_cost</th>\n",
       "      <th>order_priority</th>\n",
       "      <th>payment_method</th>\n",
       "    </tr>\n",
       "  </thead>\n",
       "  <tbody>\n",
       "    <tr>\n",
       "      <th>0</th>\n",
       "      <td>2018-01-01</td>\n",
       "      <td>10:11:40</td>\n",
       "      <td>5.0</td>\n",
       "      <td>29317</td>\n",
       "      <td>Male</td>\n",
       "      <td>Web</td>\n",
       "      <td>Member</td>\n",
       "      <td>Auto &amp; Accessories</td>\n",
       "      <td>Car Media Players</td>\n",
       "      <td>140.0</td>\n",
       "      <td>4.0</td>\n",
       "      <td>0.3</td>\n",
       "      <td>43.2</td>\n",
       "      <td>4.3</td>\n",
       "      <td>Medium</td>\n",
       "      <td>e_wallet</td>\n",
       "    </tr>\n",
       "    <tr>\n",
       "      <th>1</th>\n",
       "      <td>2018-01-01</td>\n",
       "      <td>22:30:44</td>\n",
       "      <td>7.0</td>\n",
       "      <td>42270</td>\n",
       "      <td>Male</td>\n",
       "      <td>Web</td>\n",
       "      <td>Member</td>\n",
       "      <td>Auto &amp; Accessories</td>\n",
       "      <td>Car Pillow &amp; Neck Rest</td>\n",
       "      <td>231.0</td>\n",
       "      <td>5.0</td>\n",
       "      <td>0.1</td>\n",
       "      <td>139.5</td>\n",
       "      <td>13.9</td>\n",
       "      <td>High</td>\n",
       "      <td>money_order</td>\n",
       "    </tr>\n",
       "    <tr>\n",
       "      <th>2</th>\n",
       "      <td>2018-01-01</td>\n",
       "      <td>21:55:31</td>\n",
       "      <td>10.0</td>\n",
       "      <td>14563</td>\n",
       "      <td>Male</td>\n",
       "      <td>Web</td>\n",
       "      <td>Member</td>\n",
       "      <td>Auto &amp; Accessories</td>\n",
       "      <td>Car Speakers</td>\n",
       "      <td>211.0</td>\n",
       "      <td>5.0</td>\n",
       "      <td>0.1</td>\n",
       "      <td>120.5</td>\n",
       "      <td>12.0</td>\n",
       "      <td>High</td>\n",
       "      <td>credit_card</td>\n",
       "    </tr>\n",
       "    <tr>\n",
       "      <th>3</th>\n",
       "      <td>2018-01-01</td>\n",
       "      <td>13:57:15</td>\n",
       "      <td>9.0</td>\n",
       "      <td>58601</td>\n",
       "      <td>Male</td>\n",
       "      <td>Web</td>\n",
       "      <td>Member</td>\n",
       "      <td>Auto &amp; Accessories</td>\n",
       "      <td>Tyre</td>\n",
       "      <td>250.0</td>\n",
       "      <td>4.0</td>\n",
       "      <td>0.2</td>\n",
       "      <td>150.0</td>\n",
       "      <td>15.0</td>\n",
       "      <td>Critical</td>\n",
       "      <td>credit_card</td>\n",
       "    </tr>\n",
       "    <tr>\n",
       "      <th>4</th>\n",
       "      <td>2018-01-01</td>\n",
       "      <td>15:17:41</td>\n",
       "      <td>2.0</td>\n",
       "      <td>48342</td>\n",
       "      <td>Male</td>\n",
       "      <td>Web</td>\n",
       "      <td>Member</td>\n",
       "      <td>Auto &amp; Accessories</td>\n",
       "      <td>Tyre</td>\n",
       "      <td>250.0</td>\n",
       "      <td>1.0</td>\n",
       "      <td>0.1</td>\n",
       "      <td>165.0</td>\n",
       "      <td>16.5</td>\n",
       "      <td>High</td>\n",
       "      <td>credit_card</td>\n",
       "    </tr>\n",
       "  </tbody>\n",
       "</table>\n",
       "</div>"
      ],
      "text/plain": [
       "   order_date      time  aging  customer_id gender device_type  \\\n",
       "0  2018-01-01  10:11:40    5.0        29317   Male         Web   \n",
       "1  2018-01-01  22:30:44    7.0        42270   Male         Web   \n",
       "2  2018-01-01  21:55:31   10.0        14563   Male         Web   \n",
       "3  2018-01-01  13:57:15    9.0        58601   Male         Web   \n",
       "4  2018-01-01  15:17:41    2.0        48342   Male         Web   \n",
       "\n",
       "  customer_login_type    product_category                 product  sales  \\\n",
       "0              Member  Auto & Accessories       Car Media Players  140.0   \n",
       "1              Member  Auto & Accessories  Car Pillow & Neck Rest  231.0   \n",
       "2              Member  Auto & Accessories            Car Speakers  211.0   \n",
       "3              Member  Auto & Accessories                    Tyre  250.0   \n",
       "4              Member  Auto & Accessories                    Tyre  250.0   \n",
       "\n",
       "   quantity  discount  profit  shipping_cost order_priority payment_method  \n",
       "0       4.0       0.3    43.2            4.3         Medium       e_wallet  \n",
       "1       5.0       0.1   139.5           13.9           High    money_order  \n",
       "2       5.0       0.1   120.5           12.0           High    credit_card  \n",
       "3       4.0       0.2   150.0           15.0       Critical    credit_card  \n",
       "4       1.0       0.1   165.0           16.5           High    credit_card  "
      ]
     },
     "execution_count": 13,
     "metadata": {},
     "output_type": "execute_result"
    }
   ],
   "source": [
    "print(f\"First 5 rows of the data:\")\n",
    "sales.head()"
   ]
  },
  {
   "cell_type": "code",
   "execution_count": 14,
   "metadata": {},
   "outputs": [
    {
     "name": "stdout",
     "output_type": "stream",
     "text": [
      "Dataset information:\n",
      "<class 'pandas.core.frame.DataFrame'>\n",
      "RangeIndex: 51290 entries, 0 to 51289\n",
      "Data columns (total 16 columns):\n",
      " #   Column               Non-Null Count  Dtype  \n",
      "---  ------               --------------  -----  \n",
      " 0   order_date           51290 non-null  object \n",
      " 1   time                 51290 non-null  object \n",
      " 2   aging                51289 non-null  float64\n",
      " 3   customer_id          51290 non-null  int64  \n",
      " 4   gender               51290 non-null  object \n",
      " 5   device_type          51290 non-null  object \n",
      " 6   customer_login_type  51290 non-null  object \n",
      " 7   product_category     51290 non-null  object \n",
      " 8   product              51290 non-null  object \n",
      " 9   sales                51289 non-null  float64\n",
      " 10  quantity             51288 non-null  float64\n",
      " 11  discount             51289 non-null  float64\n",
      " 12  profit               51290 non-null  float64\n",
      " 13  shipping_cost        51289 non-null  float64\n",
      " 14  order_priority       51288 non-null  object \n",
      " 15  payment_method       51290 non-null  object \n",
      "dtypes: float64(6), int64(1), object(9)\n",
      "memory usage: 6.3+ MB\n"
     ]
    }
   ],
   "source": [
    "print(f'Dataset information:')\n",
    "sales.info()"
   ]
  },
  {
   "cell_type": "code",
   "execution_count": 10,
   "metadata": {},
   "outputs": [
    {
     "name": "stdout",
     "output_type": "stream",
     "text": [
      "Columns: ['order_date', 'time', 'aging', 'customer_id', 'gender', 'device_type', 'customer_login_type', 'product_category', 'product', 'sales', 'quantity', 'discount', 'profit', 'shipping_cost', 'order_priority', 'payment_method']\n"
     ]
    }
   ],
   "source": [
    "print(f'Columns: {sales.columns.tolist()}')"
   ]
  },
  {
   "cell_type": "code",
   "execution_count": 15,
   "metadata": {},
   "outputs": [
    {
     "name": "stdout",
     "output_type": "stream",
     "text": [
      "Decimal statistics:\n"
     ]
    },
    {
     "data": {
      "text/html": [
       "<div>\n",
       "<style scoped>\n",
       "    .dataframe tbody tr th:only-of-type {\n",
       "        vertical-align: middle;\n",
       "    }\n",
       "\n",
       "    .dataframe tbody tr th {\n",
       "        vertical-align: top;\n",
       "    }\n",
       "\n",
       "    .dataframe thead th {\n",
       "        text-align: right;\n",
       "    }\n",
       "</style>\n",
       "<table border=\"1\" class=\"dataframe\">\n",
       "  <thead>\n",
       "    <tr style=\"text-align: right;\">\n",
       "      <th></th>\n",
       "      <th>aging</th>\n",
       "      <th>customer_id</th>\n",
       "      <th>sales</th>\n",
       "      <th>quantity</th>\n",
       "      <th>discount</th>\n",
       "      <th>profit</th>\n",
       "      <th>shipping_cost</th>\n",
       "    </tr>\n",
       "  </thead>\n",
       "  <tbody>\n",
       "    <tr>\n",
       "      <th>count</th>\n",
       "      <td>51289.000000</td>\n",
       "      <td>51290.000000</td>\n",
       "      <td>51289.000000</td>\n",
       "      <td>51288.000000</td>\n",
       "      <td>51289.000000</td>\n",
       "      <td>51290.000000</td>\n",
       "      <td>51289.000000</td>\n",
       "    </tr>\n",
       "    <tr>\n",
       "      <th>mean</th>\n",
       "      <td>5.255035</td>\n",
       "      <td>58155.758764</td>\n",
       "      <td>152.340872</td>\n",
       "      <td>2.502983</td>\n",
       "      <td>0.303821</td>\n",
       "      <td>70.407226</td>\n",
       "      <td>7.041557</td>\n",
       "    </tr>\n",
       "    <tr>\n",
       "      <th>std</th>\n",
       "      <td>2.959948</td>\n",
       "      <td>26032.215826</td>\n",
       "      <td>66.495419</td>\n",
       "      <td>1.511859</td>\n",
       "      <td>0.131027</td>\n",
       "      <td>48.729488</td>\n",
       "      <td>4.871745</td>\n",
       "    </tr>\n",
       "    <tr>\n",
       "      <th>min</th>\n",
       "      <td>1.000000</td>\n",
       "      <td>10000.000000</td>\n",
       "      <td>33.000000</td>\n",
       "      <td>1.000000</td>\n",
       "      <td>0.100000</td>\n",
       "      <td>0.500000</td>\n",
       "      <td>0.100000</td>\n",
       "    </tr>\n",
       "    <tr>\n",
       "      <th>25%</th>\n",
       "      <td>3.000000</td>\n",
       "      <td>35831.250000</td>\n",
       "      <td>85.000000</td>\n",
       "      <td>1.000000</td>\n",
       "      <td>0.200000</td>\n",
       "      <td>24.900000</td>\n",
       "      <td>2.500000</td>\n",
       "    </tr>\n",
       "    <tr>\n",
       "      <th>50%</th>\n",
       "      <td>5.000000</td>\n",
       "      <td>61018.000000</td>\n",
       "      <td>133.000000</td>\n",
       "      <td>2.000000</td>\n",
       "      <td>0.300000</td>\n",
       "      <td>59.900000</td>\n",
       "      <td>6.000000</td>\n",
       "    </tr>\n",
       "    <tr>\n",
       "      <th>75%</th>\n",
       "      <td>8.000000</td>\n",
       "      <td>80736.250000</td>\n",
       "      <td>218.000000</td>\n",
       "      <td>4.000000</td>\n",
       "      <td>0.400000</td>\n",
       "      <td>118.400000</td>\n",
       "      <td>11.800000</td>\n",
       "    </tr>\n",
       "    <tr>\n",
       "      <th>max</th>\n",
       "      <td>10.500000</td>\n",
       "      <td>99999.000000</td>\n",
       "      <td>250.000000</td>\n",
       "      <td>5.000000</td>\n",
       "      <td>0.500000</td>\n",
       "      <td>167.500000</td>\n",
       "      <td>16.800000</td>\n",
       "    </tr>\n",
       "  </tbody>\n",
       "</table>\n",
       "</div>"
      ],
      "text/plain": [
       "              aging   customer_id         sales      quantity      discount  \\\n",
       "count  51289.000000  51290.000000  51289.000000  51288.000000  51289.000000   \n",
       "mean       5.255035  58155.758764    152.340872      2.502983      0.303821   \n",
       "std        2.959948  26032.215826     66.495419      1.511859      0.131027   \n",
       "min        1.000000  10000.000000     33.000000      1.000000      0.100000   \n",
       "25%        3.000000  35831.250000     85.000000      1.000000      0.200000   \n",
       "50%        5.000000  61018.000000    133.000000      2.000000      0.300000   \n",
       "75%        8.000000  80736.250000    218.000000      4.000000      0.400000   \n",
       "max       10.500000  99999.000000    250.000000      5.000000      0.500000   \n",
       "\n",
       "             profit  shipping_cost  \n",
       "count  51290.000000   51289.000000  \n",
       "mean      70.407226       7.041557  \n",
       "std       48.729488       4.871745  \n",
       "min        0.500000       0.100000  \n",
       "25%       24.900000       2.500000  \n",
       "50%       59.900000       6.000000  \n",
       "75%      118.400000      11.800000  \n",
       "max      167.500000      16.800000  "
      ]
     },
     "execution_count": 15,
     "metadata": {},
     "output_type": "execute_result"
    }
   ],
   "source": [
    "print(f'Decimal statistics:')\n",
    "sales.describe()"
   ]
  },
  {
   "cell_type": "code",
   "execution_count": 20,
   "metadata": {},
   "outputs": [
    {
     "data": {
      "text/plain": [
       "order_date             0\n",
       "time                   0\n",
       "aging                  1\n",
       "customer_id            0\n",
       "gender                 0\n",
       "device_type            0\n",
       "customer_login_type    0\n",
       "product_category       0\n",
       "product                0\n",
       "sales                  1\n",
       "quantity               2\n",
       "discount               1\n",
       "profit                 0\n",
       "shipping_cost          1\n",
       "order_priority         2\n",
       "payment_method         0\n",
       "dtype: int64"
      ]
     },
     "execution_count": 20,
     "metadata": {},
     "output_type": "execute_result"
    }
   ],
   "source": [
    "sales.isnull().sum()"
   ]
  },
  {
   "cell_type": "code",
   "execution_count": 26,
   "metadata": {},
   "outputs": [
    {
     "data": {
      "text/plain": [
       "order_date               356\n",
       "time                   35275\n",
       "gender                     2\n",
       "device_type                2\n",
       "customer_login_type        4\n",
       "product_category           4\n",
       "product                   42\n",
       "order_priority             4\n",
       "payment_method             5\n",
       "dtype: int64"
      ]
     },
     "execution_count": 26,
     "metadata": {},
     "output_type": "execute_result"
    }
   ],
   "source": [
    "sales.select_dtypes(include='object').nunique()"
   ]
  },
  {
   "cell_type": "markdown",
   "metadata": {},
   "source": [
    "The dataset appears to be mostly normalized. Some columns (aging, sales, quantity, discount, shipping_cost, order_priority) have several null records. We could either delete rows where any field is null or replace the null values with the column average.\n",
    "\n",
    "I also suggest converting the date and time columns to Pandas datetime format. To prepare the data for model analysis, we should convert categorical (object) values to numbers. For this, we can use One-Hot Encoding for columns like gender, device_type, customer_login_type, product_category, and payment_method. If model performance isn’t a major concern, we could also include the product column in the encoding. For order_priority, however, Ordinal Encoding would be more suitable due to its inherent order.\n",
    "\n",
    "I'm also unsure if customer_id should be included as a feature, as it doesn't provide any meaningful relationship; for example, customer_id 60000 isn't “less than” customer_id 60001 in any meaningful way.\n",
    "\n",
    "If we use a model sensitive to feature scaling, we might consider standardizing the profit and shipping_cost columns, for instance, by applying Standard Scaling."
   ]
  }
 ],
 "metadata": {
  "kernelspec": {
   "display_name": ".venv",
   "language": "python",
   "name": "python3"
  },
  "language_info": {
   "codemirror_mode": {
    "name": "ipython",
    "version": 3
   },
   "file_extension": ".py",
   "mimetype": "text/x-python",
   "name": "python",
   "nbconvert_exporter": "python",
   "pygments_lexer": "ipython3",
   "version": "3.12.2"
  }
 },
 "nbformat": 4,
 "nbformat_minor": 2
}
